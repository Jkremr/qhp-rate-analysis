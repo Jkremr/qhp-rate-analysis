{
 "cells": [
  {
   "cell_type": "code",
   "execution_count": 1,
   "metadata": {
    "collapsed": true
   },
   "outputs": [],
   "source": [
    "import pandas as pd\n",
    "import numpy as np"
   ]
  },
  {
   "cell_type": "code",
   "execution_count": 2,
   "metadata": {
    "collapsed": false
   },
   "outputs": [],
   "source": [
    "rating_area_map = pd.read_csv('./data_files/rating_area_county_map.csv')"
   ]
  },
  {
   "cell_type": "code",
   "execution_count": 3,
   "metadata": {
    "collapsed": false
   },
   "outputs": [
    {
     "data": {
      "text/html": [
       "<div>\n",
       "<table border=\"1\" class=\"dataframe\">\n",
       "  <thead>\n",
       "    <tr style=\"text-align: right;\">\n",
       "      <th></th>\n",
       "      <th>fips_Code</th>\n",
       "      <th>rating_area_name</th>\n",
       "      <th>county_name</th>\n",
       "      <th>state_code</th>\n",
       "      <th>RatingAreaGeographicalElement</th>\n",
       "    </tr>\n",
       "  </thead>\n",
       "  <tbody>\n",
       "    <tr>\n",
       "      <th>0</th>\n",
       "      <td>10001</td>\n",
       "      <td>Rating Area 1</td>\n",
       "      <td>Kent</td>\n",
       "      <td>DE</td>\n",
       "      <td>CountyFips</td>\n",
       "    </tr>\n",
       "    <tr>\n",
       "      <th>1</th>\n",
       "      <td>10003</td>\n",
       "      <td>Rating Area 1</td>\n",
       "      <td>New Castle</td>\n",
       "      <td>DE</td>\n",
       "      <td>CountyFips</td>\n",
       "    </tr>\n",
       "    <tr>\n",
       "      <th>2</th>\n",
       "      <td>10005</td>\n",
       "      <td>Rating Area 1</td>\n",
       "      <td>Sussex</td>\n",
       "      <td>DE</td>\n",
       "      <td>CountyFips</td>\n",
       "    </tr>\n",
       "    <tr>\n",
       "      <th>3</th>\n",
       "      <td>11001</td>\n",
       "      <td>Rating Area 1</td>\n",
       "      <td>District of Columbia</td>\n",
       "      <td>DC</td>\n",
       "      <td>CountyFips</td>\n",
       "    </tr>\n",
       "    <tr>\n",
       "      <th>4</th>\n",
       "      <td>12001</td>\n",
       "      <td>Rating Area 1</td>\n",
       "      <td>Alachua</td>\n",
       "      <td>FL</td>\n",
       "      <td>CountyFips</td>\n",
       "    </tr>\n",
       "  </tbody>\n",
       "</table>\n",
       "</div>"
      ],
      "text/plain": [
       "   fips_Code rating_area_name           county_name state_code  \\\n",
       "0      10001    Rating Area 1                  Kent         DE   \n",
       "1      10003    Rating Area 1            New Castle         DE   \n",
       "2      10005    Rating Area 1                Sussex         DE   \n",
       "3      11001    Rating Area 1  District of Columbia         DC   \n",
       "4      12001    Rating Area 1               Alachua         FL   \n",
       "\n",
       "  RatingAreaGeographicalElement  \n",
       "0                    CountyFips  \n",
       "1                    CountyFips  \n",
       "2                    CountyFips  \n",
       "3                    CountyFips  \n",
       "4                    CountyFips  "
      ]
     },
     "execution_count": 3,
     "metadata": {},
     "output_type": "execute_result"
    }
   ],
   "source": [
    "rating_area_map.head()"
   ]
  },
  {
   "cell_type": "code",
   "execution_count": 4,
   "metadata": {
    "collapsed": true
   },
   "outputs": [],
   "source": [
    "rating_area_map.columns = [c.lower() for c in rating_area_map.columns] #postgres doesn't like capitals or spaces"
   ]
  },
  {
   "cell_type": "code",
   "execution_count": 5,
   "metadata": {
    "collapsed": true
   },
   "outputs": [],
   "source": [
    "from sqlalchemy import create_engine\n",
    "engine = create_engine('postgresql://localhost:5432/ifprates')"
   ]
  },
  {
   "cell_type": "code",
   "execution_count": 7,
   "metadata": {
    "collapsed": false
   },
   "outputs": [],
   "source": [
    "rating_area_map.to_sql(\"rating_area_county_map_etl\", engine)"
   ]
  },
  {
   "cell_type": "code",
   "execution_count": null,
   "metadata": {
    "collapsed": true
   },
   "outputs": [],
   "source": []
  }
 ],
 "metadata": {
  "kernelspec": {
   "display_name": "Python 3",
   "language": "python",
   "name": "python3"
  },
  "language_info": {
   "codemirror_mode": {
    "name": "ipython",
    "version": 3
   },
   "file_extension": ".py",
   "mimetype": "text/x-python",
   "name": "python",
   "nbconvert_exporter": "python",
   "pygments_lexer": "ipython3",
   "version": "3.6.0"
  }
 },
 "nbformat": 4,
 "nbformat_minor": 2
}
