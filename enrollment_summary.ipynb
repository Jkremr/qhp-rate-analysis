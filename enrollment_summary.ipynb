{
 "cells": [
  {
   "cell_type": "code",
   "execution_count": 1,
   "metadata": {
    "collapsed": true
   },
   "outputs": [],
   "source": [
    "import pandas as pd\n",
    "import numpy as np"
   ]
  },
  {
   "cell_type": "markdown",
   "metadata": {},
   "source": [
    "From: https://www.cms.gov/Research-Statistics-Data-and-Systems/Statistics-Trends-and-Reports/Marketplace-Products/index.html\n",
    "\n",
    "File Info:\n",
    "* '2015_OEP_County-Level_Public_Use_File.xlsx'\n",
    "    * 2015 OEP County-Level Public Use File\n",
    "    * The county and demographics PUF includes total health plan selections, as well as data for consumers with a plan selection segmented by age, race/ethnicity, Federal Poverty Level (FPL), consumer type, metal level, Cost-Sharing Reduction (CSR), and Advanced Premium Tax Credit (APTC). \n",
    "    * The 2015 Open Enrollment Period (OEP) for the Health Insurance Marketplaces ran between November 15, 2014 and February 15, 2015 and included additional special enrollment period activity reported through February 22, 2015. CMS has prepared a number of public use files summarizing plan selection activity from **November 15, 2014 through February 22, 2015.**\n",
    "    * This PUF only includes data for the 37 states that used the HealthCare.gov platform in 2015.\n",
    "* '2016_OEP_County-Level_Public_Use_File.xlsx'\n",
    "    * 2016 OEP County-Level Public Use File.\n",
    "    * The county and demographics PUF includes total health plan selections, as well as data for consumers with a plan selection segmented by age, race/ethnicity, Federal Poverty Level (FPL), consumer type, metal level, Cost-Sharing Reduction (CSR), and Advanced Premium Tax Credit (APTC).\n",
    "    * The 2016 Open Enrollment Period (OEP) for the Health Insurance Marketplaces ran between **November 1, 2015 and January 31, 2016 and included additional Special Enrollment Period activity reported through February 1, 2016.**\n",
    "    * This PUF only includes data for the 38 states that used the HealthCare.gov platform in 2016.\n",
    "* '2017_OEP_County-Level_Public_Use_File.xlsx'\n",
    "    * 2017 OEP ZIP Code-Level Public Use File. \n",
    "    * This ZIP code and APTC PUF includes total health plan selections, the count of consumers with APTC, and average APTC among consumers with APTC between **November 1, 2016 and January 31, 2017.**\n",
    "    * This PUF only includes data for the 39 states that used the HealthCare.gov platform in 2017\n"
   ]
  },
  {
   "cell_type": "code",
   "execution_count": 2,
   "metadata": {
    "collapsed": false
   },
   "outputs": [
    {
     "data": {
      "text/plain": [
       "['(1) Consumer Type',\n",
       " '(5) Household Income',\n",
       " '(2) Financial Assistance',\n",
       " '(3) Demographics',\n",
       " '(4) Metal Level']"
      ]
     },
     "execution_count": 2,
     "metadata": {},
     "output_type": "execute_result"
    }
   ],
   "source": [
    "# Read .xlsx.\n",
    "df2015 = pd.read_excel('./data_files/Enrollment_Summary/2015_OEP_County-Level_Public_Use_File.xlsx', None)\n",
    "df2016 = pd.read_excel('./data_files/Enrollment_Summary/2016_OEP_County-Level_Public_Use_File.xlsx', None)\n",
    "df2017 = pd.read_excel('./data_files/Enrollment_Summary/2017_OEP_County-Level_Public_Use_File.xlsx', None)\n",
    "\n",
    "# Append observation date columns.\n",
    "df2015['(1) Consumer Type']['Observation_Start'] = '2014-11-15'\n",
    "df2015['(1) Consumer Type']['Observation_End'] = '2015-02-22'\n",
    "df2015['(1) Consumer Type']['Observation_Period_Name'] = '2015 OEP'\n",
    "\n",
    "df2016['(1) Consumer Type']['Observation_Start'] = '2015-11-01'\n",
    "df2016['(1) Consumer Type']['Observation_End'] = '2016-02-01'\n",
    "df2016['(1) Consumer Type']['Observation_Period_Name'] = '2016 OEP'\n",
    "\n",
    "df2017['(1) Consumer Type']['Observation_Start'] = '2016-11-01'\n",
    "df2017['(1) Consumer Type']['Observation_End'] = '2017-01-31'\n",
    "df2017['(1) Consumer Type']['Observation_Period_Name'] = '2017 OEP'\n",
    "\n",
    "dfs = [df2015, df2016, df2017]\n",
    "\n",
    "for frame_dict in dfs:\n",
    "    for key in list(frame_dict):\n",
    "        if key in ('Methods', 'Contents', 'Definitions', 'FAQs'):\n",
    "            del frame_dict[key]\n",
    "            \n",
    "list(df2015)"
   ]
  },
  {
   "cell_type": "code",
   "execution_count": 3,
   "metadata": {
    "collapsed": false
   },
   "outputs": [
    {
     "name": "stdout",
     "output_type": "stream",
     "text": [
      "['< 100% of FPL', '> 138% and ≤ 150 % of FPL', '> 150% and ≤ 200 % of FPL', '> 150% to ≤ 200% of FPL ', '> 200% and ≤ 250% of FPL', '> 200% to ≤ 250% of FPL ', '> 250% and ≤ 300% of FPL', '> 250% to ≤ 300% of FPL ', '> 300% and ≤ 400% of FPL', '> 300% to ≤ 400% of FPL ', '> 400% of FPL', 'County FIPS Code', 'County Name', 'Other', 'State', 'State ', 'Total Number of Consumers Who Have Selected a Marketplace Plan', 'Unknown', 'Unknown ', '≥ 100%  to ≤ 150% of FPL', '≥ 100% and ≤ 138% of FPL', '≥ 100% and ≤ 150% of FPL']\n"
     ]
    },
    {
     "data": {
      "text/plain": [
       "{'< 100% of FPL': 'FPL 100 or Less',\n",
       " '> 138% and ≤ 150 % of FPL': 'FPL 138 to 150',\n",
       " '> 150% and ≤ 200 % of FPL': 'FPL 150 to 200',\n",
       " '> 150% to ≤ 200% of FPL': 'FPL 150 to 200',\n",
       " '> 200% and ≤ 250% of FPL': 'FPL 200 to 250',\n",
       " '> 200% to ≤ 250% of FPL': 'FPL 200 to 250',\n",
       " '> 250% and ≤ 300% of FPL': 'FPL 250 to 300',\n",
       " '> 250% to ≤ 300% of FPL': 'FPL 250 to 300',\n",
       " '> 300% and ≤ 400% of FPL': 'FPL 300 to 400',\n",
       " '> 300% to ≤ 400% of FPL': 'FPL 300 to 400',\n",
       " '> 400% of FPL': 'FPL 400 or Greater',\n",
       " 'Other': 'FPL Unknown',\n",
       " 'Unknown': 'FPL Unknown',\n",
       " 'Unknown FPL': 'FPL Unknown',\n",
       " '≥ 100%  to ≤ 150% of FPL': 'FPL 100 to 150',\n",
       " '≥ 100% and ≤ 138% of FPL': 'FPL 100 to 138',\n",
       " '≥ 100% and ≤ 150% of FPL': 'FPL 100 to 150'}"
      ]
     },
     "execution_count": 3,
     "metadata": {},
     "output_type": "execute_result"
    }
   ],
   "source": [
    "names = []\n",
    "for frame in dfs:\n",
    "    names.extend(list(frame['(5) Household Income']))\n",
    "\n",
    "print(sorted(set(names)))\n",
    "\n",
    "metal_col_rename = {\n",
    "    'Bronze': 'Tier Brone',\n",
    "    'Catastrophic': 'Tier Catastrophic',\n",
    "    'Gold' : 'Tier Gold',\n",
    "    'Platinum': 'Tier Platinum',\n",
    "    'Silver': 'Tier Silver'\n",
    "}\n",
    "\n",
    "demo_col_rename = {\n",
    "    'Age < 18': 'Age 18 or Younger',\n",
    "    'Age 18-25':'Age 18 to 25',\n",
    "    'Age 26-34': 'Age 26 to 34',\n",
    "    'Age 35-44':  'Age 35 to 44',\n",
    "    'Age 45-54': 'Age 45 to 54',\n",
    "    'Age 55-64':  'Age 55 to 64',\n",
    "    'Age 65+': 'Age 65 or Older',\n",
    "    'Age ≥65': 'Age 65 or Older',\n",
    "    'Age Unknown': 'Age Unknown',\n",
    "    'American Indian/ Alaska Native' :'Race American Indian or Alaska Native' ,\n",
    "    'African-American': 'Race African-American',\n",
    "    'Asian': 'Race Asian',\n",
    "    'Hispanic': 'Race Hispanic',\n",
    "    'Latino':  'Race Latino',\n",
    "    'Multiracial': 'Race Multiracial',\n",
    "    'Native Hawaiian/ Pacific Islander': 'Race Native Hawaiian or Pacific Islander',\n",
    "    'Not Hispanic': 'Race Not Hispanic',\n",
    "    'White': 'Race White',\n",
    "    'Unknown': 'Race Unknown',\n",
    "    'Unknown Race/ Ethnicity': 'Race Unknown',    \n",
    "}\n",
    "\n",
    "income_col_rename = {\n",
    "    '< 100% of FPL': 'FPL 100 or Less',\n",
    "    '≥ 100%  to ≤ 150% of FPL': 'FPL 100 to 150',\n",
    "    '≥ 100% and ≤ 138% of FPL': 'FPL 100 to 138',\n",
    "    '≥ 100% and ≤ 150% of FPL': 'FPL 100 to 150',\n",
    "    '> 138% and ≤ 150 % of FPL': 'FPL 138 to 150',\n",
    "    '> 150% and ≤ 200 % of FPL': 'FPL 150 to 200',\n",
    "    '> 150% to ≤ 200% of FPL': 'FPL 150 to 200',\n",
    "    '> 200% and ≤ 250% of FPL': 'FPL 200 to 250',\n",
    "    '> 200% to ≤ 250% of FPL': 'FPL 200 to 250',\n",
    "    '> 250% and ≤ 300% of FPL': 'FPL 250 to 300',\n",
    "    '> 250% to ≤ 300% of FPL': 'FPL 250 to 300',\n",
    "    '> 300% and ≤ 400% of FPL': 'FPL 300 to 400',\n",
    "    '> 300% to ≤ 400% of FPL': 'FPL 300 to 400',\n",
    "    '> 400% of FPL': 'FPL 400 or Greater',\n",
    "    'Other': 'FPL Unknown',\n",
    "    'Unknown FPL': 'FPL Unknown',\n",
    "    'Unknown': 'FPL Unknown'\n",
    "}\n",
    "income_col_rename"
   ]
  },
  {
   "cell_type": "code",
   "execution_count": 4,
   "metadata": {
    "collapsed": false
   },
   "outputs": [],
   "source": [
    "cols_to_remove = ['State', 'County Name', 'Total Number of Consumers Who Have Selected a Marketplace Plan']\n",
    "\n",
    "for frame_dict in dfs:\n",
    "    fips = frame_dict['(1) Consumer Type'][['County FIPS Code','Total Number of Consumers Who Have Selected a Marketplace Plan']]\n",
    "    fips.columns = ['County FIPS Code','Sample Size']\n",
    "    frame_dict['FIPS'] = fips\n",
    "    \n",
    "    for key in list(frame_dict):\n",
    "        frame_dict[key].columns = frame_dict[key].columns.map(lambda x: x.strip())\n",
    "        for col in frame_dict[key]:\n",
    "            if col in cols_to_remove:\n",
    "                frame_dict[key].drop(col, axis=1, inplace=True)\n",
    "        if key == '(1) Consumer Type':\n",
    "            frame_dict[key].rename(columns={'Active \\nRe-enrollees': 'Active Re-enrollees'}, inplace = True)\n",
    "        if key == '(3) Demographics':\n",
    "            frame_dict[key].rename(columns=demo_col_rename, inplace = True)\n",
    "        if key == '(4) Metal Level':\n",
    "            frame_dict[key].rename(columns=metal_col_rename, inplace = True)\n",
    "        if key == '(5) Household Income':\n",
    "            frame_dict[key].rename(columns=income_col_rename, inplace = True)"
   ]
  },
  {
   "cell_type": "code",
   "execution_count": 5,
   "metadata": {
    "collapsed": false
   },
   "outputs": [],
   "source": [
    "# # Add a new data frame to each list of data frames with just FIPS codes.\n",
    "# for frame_dict in dfs:\n",
    "#     fips = pd.DataFrame(frame_dict['(1) Consumer Type']['County FIPS Code'])\n",
    "#     fips.columns = ['FIPS']\n",
    "#     frame_dict['FIPS'] = fips\n",
    "# #     print(list(frame_dict))\n",
    "#     print(fips)"
   ]
  },
  {
   "cell_type": "code",
   "execution_count": 6,
   "metadata": {
    "collapsed": false
   },
   "outputs": [
    {
     "name": "stdout",
     "output_type": "stream",
     "text": [
      "['County FIPS Code' 'Sample Size' 'New Consumers' 'Active Re-enrollees'\n",
      " 'Automatic Re-enrollees' 'Observation_Start' 'Observation_End'\n",
      " 'Observation_Period_Name' 'Consumers with CSR' 'Consumers with APTC'\n",
      " 'Age 18 or Younger' 'Age 18 to 25' 'Age 26 to 34' 'Age 35 to 44'\n",
      " 'Age 45 to 54' 'Age 55 to 64' 'Age 65 or Older' 'Age Unknown'\n",
      " 'Race American Indian or Alaska Native' 'Race Asian'\n",
      " 'Race African-American' 'Race Latino'\n",
      " 'Race Native Hawaiian or Pacific Islander' 'Race Multiracial' 'Race White'\n",
      " 'Race Unknown' 'Tier Catastrophic' 'Tier Brone' 'Tier Silver' 'Tier Gold'\n",
      " 'Tier Platinum' 'FPL 100 or Less' 'FPL 100 to 150' 'FPL 150 to 200'\n",
      " 'FPL 200 to 250' 'FPL 250 to 300' 'FPL 300 to 400' 'FPL 400 or Greater'\n",
      " 'FPL Unknown']\n",
      "['County FIPS Code' 'Sample Size' 'New Consumers' 'Active Re-enrollees'\n",
      " 'Automatic Re-enrollees' 'Observation_Start' 'Observation_End'\n",
      " 'Observation_Period_Name' 'Consumers with CSR' 'Consumers with APTC'\n",
      " 'Age 18 or Younger' 'Age 18 to 25' 'Age 26 to 34' 'Age 35 to 44'\n",
      " 'Age 45 to 54' 'Age 55 to 64' 'Age 65 or Older' 'Age Unknown'\n",
      " 'Race American Indian or Alaska Native' 'Race Asian'\n",
      " 'Race African-American' 'Race Latino'\n",
      " 'Race Native Hawaiian or Pacific Islander' 'Race Multiracial' 'Race White'\n",
      " 'Race Unknown' 'Tier Catastrophic' 'Tier Brone' 'Tier Silver' 'Tier Gold'\n",
      " 'Tier Platinum' 'FPL 100 or Less' 'FPL 100 to 138' 'FPL 138 to 150'\n",
      " 'FPL 150 to 200' 'FPL 200 to 250' 'FPL 250 to 300' 'FPL 300 to 400'\n",
      " 'FPL 400 or Greater' 'FPL Unknown']\n",
      "['County FIPS Code' 'Sample Size' 'New Consumers' 'Active Re-enrollees'\n",
      " 'Automatic Re-enrollees' 'Observation_Start' 'Observation_End'\n",
      " 'Observation_Period_Name' 'Consumers with CSR' 'Consumers with APTC'\n",
      " 'Average APTC' 'Age 18 or Younger' 'Age 18 to 25' 'Age 26 to 34'\n",
      " 'Age 35 to 44' 'Age 45 to 54' 'Age 55 to 64' 'Age 65 or Older'\n",
      " 'Race American Indian or Alaska Native' 'Race Asian'\n",
      " 'Race African-American' 'Race Native Hawaiian or Pacific Islander'\n",
      " 'Race Multiracial' 'Race White' 'Race Unknown' 'Race Not Hispanic'\n",
      " 'Race Hispanic' 'Tier Catastrophic' 'Tier Brone' 'Tier Silver' 'Tier Gold'\n",
      " 'Tier Platinum' 'FPL 100 to 150' 'FPL 150 to 200' 'FPL 200 to 250'\n",
      " 'FPL 250 to 300' 'FPL 300 to 400' 'FPL Unknown']\n",
      "['Active Re-enrollees' 'Age 18 or Younger' 'Age 18 to 25' 'Age 26 to 34'\n",
      " 'Age 35 to 44' 'Age 45 to 54' 'Age 55 to 64' 'Age 65 or Older'\n",
      " 'Age Unknown' 'Automatic Re-enrollees' 'Average APTC'\n",
      " 'Consumers with APTC' 'Consumers with CSR' 'County FIPS Code'\n",
      " 'FPL 100 or Less' 'FPL 100 to 138' 'FPL 100 to 150' 'FPL 138 to 150'\n",
      " 'FPL 150 to 200' 'FPL 200 to 250' 'FPL 250 to 300' 'FPL 300 to 400'\n",
      " 'FPL 400 or Greater' 'FPL Unknown' 'New Consumers' 'Observation_End'\n",
      " 'Observation_Period_Name' 'Observation_Start' 'Race African-American'\n",
      " 'Race American Indian or Alaska Native' 'Race Asian' 'Race Hispanic'\n",
      " 'Race Latino' 'Race Multiracial'\n",
      " 'Race Native Hawaiian or Pacific Islander' 'Race Not Hispanic'\n",
      " 'Race Unknown' 'Race White' 'Sample Size' 'Tier Brone' 'Tier Catastrophic'\n",
      " 'Tier Gold' 'Tier Platinum' 'Tier Silver']\n"
     ]
    }
   ],
   "source": [
    "enrollment_summary_df = pd.DataFrame()\n",
    "for frame in dfs:\n",
    "#     for df in frame:\n",
    "#         frame[df].drop('State', axis=1, inplace=True)\n",
    "    frame['FIPS'] = frame['FIPS'].merge(frame['(1) Consumer Type'], on='County FIPS Code', how='left')\n",
    "    frame['FIPS'] = frame['FIPS'].merge(frame['(2) Financial Assistance'], on='County FIPS Code', how='left')\n",
    "    frame['FIPS'] = frame['FIPS'].merge(frame['(3) Demographics'], on='County FIPS Code', how='left')\n",
    "    frame['FIPS'] = frame['FIPS'].merge(frame['(4) Metal Level'], on='County FIPS Code', how='left')\n",
    "    frame['FIPS'] = frame['FIPS'].merge(frame['(5) Household Income'], on='County FIPS Code', how='left')\n",
    "    print(frame['FIPS'].columns.values)\n",
    "          \n",
    "#     frame['FIPS'].drop_duplicates('County FIPS Code_y', axis=1, inplace=True)\n",
    "\n",
    "#     frame['FIPS'] = frame['FIPS'].merge(frame['(1) Consumer Type'], left_on='FIPS', right_on='County FIPS Code')\n",
    "#     frame['FIPS'] = frame['FIPS'].merge(frame['(2) Financial Assistance'], left_on='FIPS', right_on='County FIPS Code')\n",
    "#     frame['FIPS'] = frame['FIPS'].merge(frame['(3) Demographics'], left_on='FIPS', right_on='County FIPS Code')\n",
    "#     frame['FIPS'] = frame['FIPS'].merge(frame['(4) Metal Level'], left_on='FIPS', right_on='County FIPS Code')\n",
    "#     frame['FIPS'] = frame['FIPS'].merge(frame['(5) Household Income'], left_on='FIPS', right_on='County FIPS Code')\n",
    "#     frame['FIPS'].drop_duplicates('County FIPS Code_y', axis=1, inplace=True)\n",
    "    enrollment_summary_df = enrollment_summary_df.append(frame['FIPS'])\n",
    "print(enrollment_summary_df.columns.values)"
   ]
  },
  {
   "cell_type": "code",
   "execution_count": 7,
   "metadata": {
    "collapsed": false
   },
   "outputs": [
    {
     "name": "stdout",
     "output_type": "stream",
     "text": [
      "['Active Re-enrollees' 'Age 18 or Younger' 'Age 18 to 25' 'Age 26 to 34'\n",
      " 'Age 35 to 44' 'Age 45 to 54' 'Age 55 to 64' 'Age 65 or Older'\n",
      " 'Age Unknown' 'Automatic Re-enrollees' 'Average APTC'\n",
      " 'Consumers with APTC' 'Consumers with CSR' 'County FIPS Code'\n",
      " 'FPL 100 or Less' 'FPL 100 to 138' 'FPL 100 to 150' 'FPL 138 to 150'\n",
      " 'FPL 150 to 200' 'FPL 200 to 250' 'FPL 250 to 300' 'FPL 300 to 400'\n",
      " 'FPL 400 or Greater' 'FPL Unknown' 'New Consumers' 'Observation_End'\n",
      " 'Observation_Period_Name' 'Observation_Start' 'Race African-American'\n",
      " 'Race American Indian or Alaska Native' 'Race Asian' 'Race Hispanic'\n",
      " 'Race Latino' 'Race Multiracial'\n",
      " 'Race Native Hawaiian or Pacific Islander' 'Race Not Hispanic'\n",
      " 'Race Unknown' 'Race White' 'Sample Size' 'Tier Brone' 'Tier Catastrophic'\n",
      " 'Tier Gold' 'Tier Platinum' 'Tier Silver']\n"
     ]
    }
   ],
   "source": [
    "print(enrollment_summary_df.columns.values)"
   ]
  },
  {
   "cell_type": "code",
   "execution_count": null,
   "metadata": {
    "collapsed": false
   },
   "outputs": [],
   "source": []
  },
  {
   "cell_type": "code",
   "execution_count": null,
   "metadata": {
    "collapsed": true
   },
   "outputs": [],
   "source": []
  }
 ],
 "metadata": {
  "kernelspec": {
   "display_name": "Python 3",
   "language": "python",
   "name": "python3"
  },
  "language_info": {
   "codemirror_mode": {
    "name": "ipython",
    "version": 3
   },
   "file_extension": ".py",
   "mimetype": "text/x-python",
   "name": "python",
   "nbconvert_exporter": "python",
   "pygments_lexer": "ipython3",
   "version": "3.6.0"
  }
 },
 "nbformat": 4,
 "nbformat_minor": 2
}
